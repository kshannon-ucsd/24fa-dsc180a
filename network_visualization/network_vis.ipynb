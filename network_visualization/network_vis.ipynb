{
 "cells": [
  {
   "cell_type": "code",
   "execution_count": null,
   "metadata": {
    "vscode": {
     "languageId": "r"
    }
   },
   "outputs": [],
   "source": [
    "system(\"R -e 'install.packages(\\\"ggraph\\\")'\")"
   ]
  },
  {
   "cell_type": "code",
   "execution_count": 2,
   "metadata": {
    "vscode": {
     "languageId": "r"
    }
   },
   "outputs": [],
   "source": [
    "system(\"R -e 'install.packages(\\\"tidyverse\\\")'\")"
   ]
  },
  {
   "cell_type": "code",
   "execution_count": 3,
   "metadata": {
    "vscode": {
     "languageId": "r"
    }
   },
   "outputs": [],
   "source": [
    "system(\"R -e 'install.packages(\\\"readr\\\")'\")\n"
   ]
  },
  {
   "cell_type": "code",
   "execution_count": 2,
   "metadata": {
    "vscode": {
     "languageId": "r"
    }
   },
   "outputs": [
    {
     "name": "stderr",
     "output_type": "stream",
     "text": [
      "Loading required package: tidyverse\n",
      "\n",
      "Warning message in library(package, lib.loc = lib.loc, character.only = TRUE, logical.return = TRUE, :\n",
      "“there is no package called ‘tidyverse’”\n",
      "Installing package into ‘/usr/local/lib/R/site-library’\n",
      "(as ‘lib’ is unspecified)\n",
      "\n",
      "Warning message in install.packages(\"tidyverse\"):\n",
      "“'lib = \"/usr/local/lib/R/site-library\"' is not writable”\n"
     ]
    },
    {
     "ename": "ERROR",
     "evalue": "Error in install.packages(\"tidyverse\"): unable to install packages\n",
     "output_type": "error",
     "traceback": [
      "Error in install.packages(\"tidyverse\"): unable to install packages\nTraceback:\n",
      "1. stop(\"unable to install packages\")",
      "2. .handleSimpleError(function (cnd) \n . {\n .     watcher$capture_plot_and_output()\n .     cnd <- sanitize_call(cnd)\n .     watcher$push(cnd)\n .     switch(on_error, continue = invokeRestart(\"eval_continue\"), \n .         stop = invokeRestart(\"eval_stop\"), error = invokeRestart(\"eval_error\", \n .             cnd))\n . }, \"unable to install packages\", base::quote(install.packages(\"tidyverse\")))"
     ]
    }
   ],
   "source": [
    "if (!require(\"igraph\")) install.packages(\"igraph\")\n",
    "if (!require(\"tidyverse\")) install.packages(\"tidyverse\")\n",
    "if (!require(\"readr\")) install.packages(\"readr\")\n",
    "if (!require(\"ggraph\")) install.packages(\"ggraph\")\n"
   ]
  },
  {
   "cell_type": "code",
   "execution_count": 1,
   "metadata": {
    "vscode": {
     "languageId": "r"
    }
   },
   "outputs": [
    {
     "name": "stderr",
     "output_type": "stream",
     "text": [
      "\n",
      "Attaching package: ‘igraph’\n",
      "\n",
      "\n",
      "The following objects are masked from ‘package:stats’:\n",
      "\n",
      "    decompose, spectrum\n",
      "\n",
      "\n",
      "The following object is masked from ‘package:base’:\n",
      "\n",
      "    union\n",
      "\n",
      "\n"
     ]
    },
    {
     "ename": "ERROR",
     "evalue": "Error in library(ggraph): there is no package called ‘ggraph’\n",
     "output_type": "error",
     "traceback": [
      "Error in library(ggraph): there is no package called ‘ggraph’\nTraceback:\n",
      "1. stop(packageNotFoundError(package, lib.loc, sys.call()))"
     ]
    }
   ],
   "source": [
    "library(igraph)\n",
    "library(ggraph)\n",
    "library(tidyverse)\n",
    "library(readr)\n",
    "\n",
    "# Load data\n",
    "data <- read_csv(\"data/Network_visualization_raw_data.csv\")\n",
    "\n",
    "# Function to filter and create a graph for a given subgroup\n",
    "create_network_plot <- function(data, subgroup) {\n",
    "  # Filter data for the subgroup\n",
    "  filtered_data <- data %>%\n",
    "    filter(class_assignment == subgroup) %>%\n",
    "    select(starts_with(\"congestive_heart_failure\"):ends_with(\"psychoses\"))\n",
    "\n",
    "  # Create an adjacency matrix\n",
    "  mat <- as.matrix(filtered_data %>% select(-subject_id, -count_morbidity, -percent, -dichotomized_class))\n",
    "  colnames(mat) <- gsub(\"_\", \" \", colnames(mat))\n",
    "  rownames(mat) <- filtered_data$subject_id\n",
    "  graph <- graph.adjacency(mat, weighted = TRUE, mode = \"undirected\", diag = FALSE)\n",
    "\n",
    "  # Calculate edge weights as the sum of associated conditions between patients\n",
    "  E(graph)$weight <- E(graph)$weight / 2\n",
    "\n",
    "  # Create the plot\n",
    "  ggraph(graph, layout = \"fr\") +\n",
    "    geom_edge_link(aes(width = weight), alpha = 0.5, color = \"gray\") +\n",
    "    geom_node_point(size = 5, aes(color = percent)) +\n",
    "    geom_node_text(aes(label = name), repel = TRUE) +\n",
    "    ggtitle(paste(\"Subgroup\", subgroup)) +\n",
    "    theme_minimal()\n",
    "}\n",
    "\n",
    "# Example usage for one subgroup, you can replicate this for others\n",
    "plot1 <- create_network_plot(data, 1)\n",
    "ggsave(plot1, filename = \"plots/network_subgroup_1.png\")\n",
    "\n",
    "# Repeat for other subgroups as needed\n",
    "plot2 <- create_network_plot(data, 3)\n",
    "ggsave(plot2, filename = \"plots/network_subgroup_3.png\")\n",
    "\n",
    "# Continue for subgroups 4 and 6 or others"
   ]
  },
  {
   "cell_type": "code",
   "execution_count": null,
   "metadata": {
    "vscode": {
     "languageId": "r"
    }
   },
   "outputs": [],
   "source": []
  }
 ],
 "metadata": {
  "kernelspec": {
   "display_name": "R",
   "language": "R",
   "name": "ir"
  },
  "language_info": {
   "codemirror_mode": "r",
   "file_extension": ".r",
   "mimetype": "text/x-r-source",
   "name": "R",
   "pygments_lexer": "r",
   "version": "4.2.2"
  }
 },
 "nbformat": 4,
 "nbformat_minor": 2
}
