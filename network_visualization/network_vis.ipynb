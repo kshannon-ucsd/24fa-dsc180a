{
 "cells": [
  {
   "cell_type": "code",
   "execution_count": null,
   "metadata": {
    "vscode": {
     "languageId": "r"
    }
   },
   "outputs": [],
   "source": [
    "source('functions/create_condition_network.R')\n",
    "source('functions/create_cooccurrence_matrix.R')\n",
    "source('functions/visualize_condition_network.R')\n",
    "old_warn <- options(warn = -1)"
   ]
  },
  {
   "cell_type": "code",
   "execution_count": null,
   "metadata": {
    "vscode": {
     "languageId": "r"
    }
   },
   "outputs": [],
   "source": [
    "# Data should be obtained by running LCA\n",
    "data <- read.csv(\"/workspaces/network_visualization/data/Network_visualization_raw_data.csv\")\n",
    "\n",
    "# Select the desired subgroup 1 - 6\n",
    "sub_group <- 0\n",
    "# Subgroup or General plot\n",
    "plot_group <- 'General'\n",
    "\n",
    "elixhauser_start_idx <- 8\n",
    "elixhauser_end_idx <- 37\n",
    "\n",
    "if (plot_group == 'Subgroup') {\n",
    "    sub_df <- data[data$class_assignment == sub_group, elixhauser_start_idx:elixhauser_end_idx]\n",
    "} else {\n",
    "    sub_df <- data[0:nrow(data), elixhauser_start_idx:elixhauser_end_idx]\n",
    "    sub_group <- 0\n",
    "}\n",
    "\n",
    "# To plot the graph for the entire population regardless of the subgroups\n"
   ]
  },
  {
   "cell_type": "code",
   "execution_count": null,
   "metadata": {
    "vscode": {
     "languageId": "r"
    }
   },
   "outputs": [],
   "source": [
    "cooccurrence_matrix <- create_cooccurrence_matrix(df = sub_df)"
   ]
  },
  {
   "cell_type": "code",
   "execution_count": null,
   "metadata": {
    "vscode": {
     "languageId": "r"
    }
   },
   "outputs": [],
   "source": [
    "condition_graph = create_condition_network(cooccurrence_matrix = cooccurrence_matrix)"
   ]
  },
  {
   "cell_type": "code",
   "execution_count": null,
   "metadata": {
    "vscode": {
     "languageId": "r"
    }
   },
   "outputs": [],
   "source": [
    "network_visualization = visualize_condition_network(condition_graph,\n",
    "                                        edge_alpha = 0.1,\n",
    "                                        sub_group = sub_group,\n",
    "                                        edge_color= 'black',\n",
    "                                        node_fill_color = 'white',\n",
    "                                        node_stroke = 0.8,\n",
    "                                        node_border_color = 'black',\n",
    "                                        text_color = 'black',\n",
    "                                        text_size = 4.5,\n",
    "                                        save = TRUE)"
   ]
  },
  {
   "cell_type": "code",
   "execution_count": null,
   "metadata": {
    "vscode": {
     "languageId": "r"
    }
   },
   "outputs": [],
   "source": [
    "print(network_visualization)"
   ]
  },
  {
   "cell_type": "code",
   "execution_count": null,
   "metadata": {
    "vscode": {
     "languageId": "r"
    }
   },
   "outputs": [],
   "source": [
    "options(old_warn)  # Restore previous warning settings"
   ]
  }
 ],
 "metadata": {
  "kernelspec": {
   "display_name": "R",
   "language": "R",
   "name": "ir"
  },
  "language_info": {
   "codemirror_mode": "r",
   "file_extension": ".r",
   "mimetype": "text/x-r-source",
   "name": "R",
   "pygments_lexer": "r",
   "version": "4.2.2"
  }
 },
 "nbformat": 4,
 "nbformat_minor": 2
}
