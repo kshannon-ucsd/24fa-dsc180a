{
 "cells": [
  {
   "cell_type": "code",
   "execution_count": 1,
   "metadata": {},
   "outputs": [],
   "source": [
    "import pandas as pd\n",
    "import matplotlib.pyplot as plt\n",
    "import seaborn as sns\n",
    "from sklearn.linear_model import LogisticRegression\n",
    "from sklearn.model_selection import cross_val_score,cross_val_predict, StratifiedKFold\n",
    "from sklearn.metrics import roc_curve, auc\n",
    "import utils.data_processing as data_processing\n",
    "import utils.visualization as visualization"
   ]
  },
  {
   "cell_type": "code",
   "execution_count": 2,
   "metadata": {},
   "outputs": [],
   "source": [
    "LCA_POSTERIOR_PROBABILITIES_PATH = \"data/processed_data/LCA_posterior_probabilities.csv\"\n",
    "LCA_LATENT_CLASS_DATA_PATH = \"data/processed_data/LCA_latent_class_data.csv\"\n",
    "NUM_LATENT_CLASSES = 6"
   ]
  },
  {
   "cell_type": "code",
   "execution_count": null,
   "metadata": {},
   "outputs": [],
   "source": [
    "df = pd.read_csv(LCA_LATENT_CLASS_DATA_PATH)\n",
    "df_prob = pd.read_csv(LCA_POSTERIOR_PROBABILITIES_PATH)\n",
    "\n",
    "df, classes_distribution = data_processing.reassign_classes(df,df_prob,num_classes=NUM_LATENT_CLASSES)\n",
    "display(df.head(5))\n",
    "print(classes_distribution)\n",
    "df = data_processing.process_morbidity_data(df)\n",
    "display(df.head(5))"
   ]
  },
  {
   "cell_type": "code",
   "execution_count": null,
   "metadata": {},
   "outputs": [],
   "source": [
    "visualization.plot_subgroup_characteristics(df, bubble_size_scale=10, save_plots=True, output_dir=\"plots\")"
   ]
  },
  {
   "cell_type": "code",
   "execution_count": null,
   "metadata": {},
   "outputs": [],
   "source": [
    "cols_used_LCA = [\"admission_type\", \"gender\", \"age_at_admission\", \"congestive_heart_failure\", \"cardiac_arrhythmias\",\n",
    "                 \"valvular_disease\", \"pulmonary_circulation\", \"peripheral_vascular\", \"hypertension\", \"paralysis\",\n",
    "                 \"other_neurological\", \"chronic_pulmonary\", \"diabetes_uncomplicated\", \"diabetes_complicated\",\n",
    "                 \"hypothyroidism\", \"renal_failure\", \"liver_disease\", \"peptic_ulcer\", \"aids\", \"lymphoma\",\n",
    "                 \"metastatic_cancer\", \"solid_tumor\", \"rheumatoid_arthritis\", \"coagulopathy\", \"obesity\", \"weight_loss\",\n",
    "                 \"fluid_electrolyte\", \"blood_loss_anemia\", \"deficiency_anemias\", \"alcohol_abuse\", \"drug_abuse\",\n",
    "                 \"psychoses\", \"depression\"]\n",
    "\n",
    "colors = ['black', 'red', 'green', 'blue', 'cyan', 'magenta']\n",
    "\n",
    "\n",
    "visualization.plot_roc_curves(df, cols_used_LCA, colors)"
   ]
  },
  {
   "cell_type": "code",
   "execution_count": null,
   "metadata": {},
   "outputs": [],
   "source": []
  }
 ],
 "metadata": {
  "kernelspec": {
   "display_name": "base",
   "language": "python",
   "name": "python3"
  },
  "language_info": {
   "codemirror_mode": {
    "name": "ipython",
    "version": 3
   },
   "file_extension": ".py",
   "mimetype": "text/x-python",
   "name": "python",
   "nbconvert_exporter": "python",
   "pygments_lexer": "ipython3",
   "version": "3.12.5"
  }
 },
 "nbformat": 4,
 "nbformat_minor": 2
}
