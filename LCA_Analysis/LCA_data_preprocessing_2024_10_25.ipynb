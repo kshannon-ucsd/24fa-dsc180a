{
 "cells": [
  {
   "cell_type": "code",
   "execution_count": 21,
   "metadata": {},
   "outputs": [],
   "source": [
    "import pandas as pd"
   ]
  },
  {
   "cell_type": "code",
   "execution_count": null,
   "metadata": {},
   "outputs": [],
   "source": [
    "df = pd.read_csv(\"data/poLCA_35128.csv\")\n",
    "df"
   ]
  },
  {
   "cell_type": "code",
   "execution_count": null,
   "metadata": {},
   "outputs": [],
   "source": [
    "df[\"age_bucket\"].isnull().sum()"
   ]
  },
  {
   "cell_type": "code",
   "execution_count": null,
   "metadata": {},
   "outputs": [],
   "source": [
    "# to change all non-elective like EMERGENCY and URGENT to Non-elective\n",
    "df[\"admission_type\"] = df[\"admission_type\"].apply(lambda x: \"Non-elective\" if x != \"ELECTIVE\" else \"Elective\")\n",
    "\n",
    "# we want to check if elixhauser index sum looks normal\n",
    "target_columns = [col for col in df.columns if col not in [\"subject_id\",\"hadm_id\",\"admission_type\",\"gender\",\"age_bucket\",\"age_at_admission\"]]\n",
    "\n",
    "df[target_columns].apply(lambda row: sum(row),axis=1).value_counts()"
   ]
  },
  {
   "cell_type": "code",
   "execution_count": null,
   "metadata": {},
   "outputs": [],
   "source": [
    "# add 1 for all elixhauser index, so they are 1/2, instead of 0/1, so it won't cause error in poLCA\n",
    "df[target_columns] = df[target_columns]+1\n",
    "\n",
    "# df = df[df[\"age_bucket\"].isnull()]\n",
    "# drop people are not in the designed age bucket\n",
    "df = df[~df[\"age_bucket\"].isnull()]\n",
    "df\n",
    "\n",
    "df = df.reset_index().drop(columns=[\"index\"])\n",
    "df"
   ]
  },
  {
   "cell_type": "code",
   "execution_count": null,
   "metadata": {},
   "outputs": [],
   "source": [
    "\n",
    "df.to_csv(\"data/LCA_prep_data.csv\")\n",
    "df"
   ]
  },
  {
   "cell_type": "code",
   "execution_count": null,
   "metadata": {},
   "outputs": [],
   "source": []
  }
 ],
 "metadata": {
  "kernelspec": {
   "display_name": "base",
   "language": "python",
   "name": "python3"
  },
  "language_info": {
   "codemirror_mode": {
    "name": "ipython",
    "version": 3
   },
   "file_extension": ".py",
   "mimetype": "text/x-python",
   "name": "python",
   "nbconvert_exporter": "python",
   "pygments_lexer": "ipython3",
   "version": "3.12.4"
  }
 },
 "nbformat": 4,
 "nbformat_minor": 2
}
