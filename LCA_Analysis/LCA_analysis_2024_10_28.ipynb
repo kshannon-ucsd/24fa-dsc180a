{
 "cells": [
  {
   "cell_type": "code",
   "execution_count": 12,
   "metadata": {
    "vscode": {
     "languageId": "r"
    }
   },
   "outputs": [],
   "source": [
    "library(poLCA)\n",
    "library(reticulate)\n",
    "\n",
    "source(\"utils/LCA_analysis.R\")\n",
    "source_python(\"utils/data_processing.py\")"
   ]
  },
  {
   "cell_type": "code",
   "execution_count": 13,
   "metadata": {
    "vscode": {
     "languageId": "r"
    }
   },
   "outputs": [],
   "source": [
    "# File paths\n",
    "RAW_DATA_PATH <- \"data/raw_data/poLCA_35128.csv\"\n",
    "LCA_PREPROCESSED_DATA_PATH <- \"data/processed_data/LCA_preprocessed_data.csv\"\n",
    "LCA_POSTERIOR_PROBABILITIES_PATH <- \"data/processed_data/LCA_posterior_probabilities.csv\"\n",
    "LCA_LATENT_CLASS_DATA_PATH <- \"data/processed_data/LCA_latent_class_data.csv\"\n",
    "PLOT_DIR_PATH <- \"plots\"\n"
   ]
  },
  {
   "cell_type": "code",
   "execution_count": null,
   "metadata": {
    "vscode": {
     "languageId": "r"
    }
   },
   "outputs": [],
   "source": [
    "# Run the preprocess data function and store the results in a list, including processed df and morbidity_distribution\n",
    "results <- preprocess_lca_data(RAW_DATA_PATH, LCA_PREPROCESSED_DATA_PATH)\n",
    "\n",
    "# Access each part of the result\n",
    "df <- results$df\n",
    "morbidity_distribution <- results$morbidity_distribution\n",
    "\n",
    "# Define the columns you want to convert to factors before passing into the LCA model\n",
    "factor_columns <- c(\"admission_type\", \"gender\", \"age_bucket\")\n",
    "\n",
    "# Apply the function to your data frame\n",
    "df <- convert_to_factors(df, factor_columns)\n",
    "\n",
    "# Print the morbidity distribution with proper formatting\n",
    "print(morbidity_distribution)"
   ]
  },
  {
   "cell_type": "code",
   "execution_count": null,
   "metadata": {
    "vscode": {
     "languageId": "r"
    }
   },
   "outputs": [],
   "source": [
    "# Define the formula as in your example\n",
    "formula <- as.formula(cbind(admission_type, gender, age_at_admission, congestive_heart_failure, \n",
    "                            cardiac_arrhythmias, valvular_disease, pulmonary_circulation, \n",
    "                            peripheral_vascular, hypertension, paralysis, other_neurological, \n",
    "                            chronic_pulmonary, diabetes_uncomplicated, diabetes_complicated, \n",
    "                            hypothyroidism, renal_failure, liver_disease, peptic_ulcer, aids, \n",
    "                            lymphoma, metastatic_cancer, solid_tumor, rheumatoid_arthritis, \n",
    "                            coagulopathy, obesity, weight_loss, fluid_electrolyte, blood_loss_anemia, \n",
    "                            deficiency_anemias, alcohol_abuse, drug_abuse, psychoses, \n",
    "                            depression) ~ 1)\n",
    "\n",
    "# Run the function with your data frame and desired class range\n",
    "best_models <- find_best_lca_model(df, formula, class_range = 7, plot_dir = PLOT_DIR_PATH)\n",
    "\n",
    "# Access the best models\n",
    "best_models$best_model_bic   # Best model by BIC\n",
    "best_models$best_model_aic   # Best model by AIC\n",
    "best_models$best_model_aic_bic_combined  # Best model by combined AIC+BIC\n"
   ]
  },
  {
   "cell_type": "markdown",
   "metadata": {},
   "source": [
    "# Check Patients fall into which Latent Classes"
   ]
  },
  {
   "cell_type": "code",
   "execution_count": null,
   "metadata": {
    "vscode": {
     "languageId": "r"
    }
   },
   "outputs": [],
   "source": [
    "\n",
    "# Assign the predicted class for each observation to a new column in df\n",
    "df$class_assignment <- best_models$best_model_aic_bic_combined$predclass\n",
    "\n",
    "# Use table to summarize the number of individuals in each class\n",
    "table(df$class_assignment)\n",
    "\n",
    "# Convert the posterior probabilities to a dataframe \n",
    "posterior_df <- as.data.frame(best_models$best_model_aic_bic_combined$posterior)\n",
    "\n",
    "# Save the dataframe to a CSV file, the posterior_df is usde to combine small classes to larger classes if it is necessary\n",
    "write.csv(posterior_df, LCA_POSTERIOR_PROBABILITIES_PATH, row.names = FALSE)\n",
    "\n",
    "write.csv(df,LCA_LATENT_CLASS_DATA_PATH,row.names = FALSE)\n"
   ]
  }
 ],
 "metadata": {
  "kernelspec": {
   "display_name": "R",
   "language": "R",
   "name": "ir"
  },
  "language_info": {
   "codemirror_mode": "r",
   "file_extension": ".r",
   "mimetype": "text/x-r-source",
   "name": "R",
   "pygments_lexer": "r",
   "version": "4.2.2"
  }
 },
 "nbformat": 4,
 "nbformat_minor": 2
}
