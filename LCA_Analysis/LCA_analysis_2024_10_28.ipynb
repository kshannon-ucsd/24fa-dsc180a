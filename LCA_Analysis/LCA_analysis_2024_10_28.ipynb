{
 "cells": [
  {
   "cell_type": "code",
   "execution_count": 14,
   "metadata": {
    "vscode": {
     "languageId": "r"
    }
   },
   "outputs": [],
   "source": [
    "library(poLCA)"
   ]
  },
  {
   "cell_type": "code",
   "execution_count": null,
   "metadata": {
    "vscode": {
     "languageId": "r"
    }
   },
   "outputs": [],
   "source": [
    "df <- read.csv(\"data/LCA_prep_data.csv\")\n",
    "df$admission_type <- as.factor(df$admission_type)\n",
    "df$gender <- as.factor(df$gender)\n",
    "df$age_bucket <- as.factor(df$age_bucket)\n",
    "df\n"
   ]
  },
  {
   "cell_type": "code",
   "execution_count": null,
   "metadata": {
    "vscode": {
     "languageId": "r"
    }
   },
   "outputs": [],
   "source": [
    "set.seed(1)\n",
    "min_aic <- 1000000\n",
    "min_bic <- 1000000\n",
    "min_aic_bic_combined <- min_aic + min_bic \n",
    "f <- as.formula(cbind(admission_type,gender,age_bucket,congestive_heart_failure,cardiac_arrhythmias,valvular_disease,pulmonary_circulation,peripheral_vascular,hypertension,paralysis,other_neurological,chronic_pulmonary,diabetes_uncomplicated,diabetes_complicated,hypothyroidism,renal_failure,liver_disease,peptic_ulcer,aids,lymphoma,metastatic_cancer,solid_tumor,rheumatoid_arthritis,coagulopathy,obesity,weight_loss,fluid_electrolyte,blood_loss_anemia,deficiency_anemias,alcohol_abuse,drug_abuse,psychoses,depression)~1)\n",
    "\n",
    "for(i in 6:15){\n",
    "  lc <- poLCA(f, df, nclass=i, maxiter=7000, \n",
    "              tol=1e-5, na.rm=FALSE,  \n",
    "              nrep=7, verbose=TRUE, calc.se=TRUE)\n",
    "  if(lc$bic + lc$aic < min_aic_bic_combined){\n",
    "    min_aic_bic_combined <- lc$bic + lc$aic\n",
    "    LCA_best_model_aic_bic_combined <- lc\n",
    "    }\n",
    "\n",
    "  # Track the best BIC model\n",
    "  if(lc$bic < min_bic){\n",
    "    min_bic <- lc$bic\n",
    "    LCA_best_model_bic <- lc\n",
    "  }\n",
    "  \n",
    "  # Track the best AIC model\n",
    "  if(lc$aic < min_aic){\n",
    "    min_aic <- lc$aic\n",
    "    LCA_best_model_aic <- lc\n",
    "  }\n",
    "}\n",
    "\n",
    "\n",
    "LCA_best_model_bic  # Best model by BIC\n",
    "LCA_best_model_aic  # Best model by AIC\n",
    "LCA_best_model_aic_bic_combined"
   ]
  },
  {
   "cell_type": "code",
   "execution_count": null,
   "metadata": {
    "vscode": {
     "languageId": "r"
    }
   },
   "outputs": [],
   "source": [
    "LCA_best_model_aic_bic_combined"
   ]
  },
  {
   "cell_type": "code",
   "execution_count": null,
   "metadata": {
    "vscode": {
     "languageId": "r"
    }
   },
   "outputs": [],
   "source": [
    "plot(LCA_best_model_aic_bic_combined)"
   ]
  },
  {
   "cell_type": "markdown",
   "metadata": {},
   "source": [
    "# Check Patients fall into which Latent Classes"
   ]
  },
  {
   "cell_type": "code",
   "execution_count": null,
   "metadata": {
    "vscode": {
     "languageId": "r"
    }
   },
   "outputs": [],
   "source": [
    "head(LCA_best_model_aic_bic_combined$posterior)"
   ]
  },
  {
   "cell_type": "code",
   "execution_count": null,
   "metadata": {
    "vscode": {
     "languageId": "r"
    }
   },
   "outputs": [],
   "source": [
    "# Assign the predicted class for each observation to a new column in df\n",
    "df$class_assignment <- LCA_best_model_bic$predclass\n",
    "\n",
    "# View the updated DataFrame to check who falls into which group\n",
    "head(df)\n",
    "\n",
    "# You can also use table to summarize the number of individuals in each class\n",
    "table(df$class_assignment)\n"
   ]
  },
  {
   "cell_type": "code",
   "execution_count": 53,
   "metadata": {
    "vscode": {
     "languageId": "r"
    }
   },
   "outputs": [],
   "source": [
    "# Convert the posterior probabilities to a dataframe if it's not already\n",
    "posterior_df <- as.data.frame(LCA_best_model_aic_bic_combined$posterior)\n",
    "\n",
    "# Save the dataframe to a CSV file\n",
    "write.csv(posterior_df, \"data/LCA_posterior_probabilities.csv\", row.names = FALSE)"
   ]
  },
  {
   "cell_type": "code",
   "execution_count": null,
   "metadata": {
    "vscode": {
     "languageId": "r"
    }
   },
   "outputs": [],
   "source": []
  },
  {
   "cell_type": "code",
   "execution_count": 39,
   "metadata": {
    "vscode": {
     "languageId": "r"
    }
   },
   "outputs": [],
   "source": [
    "write.csv(df,\"data/LCA_latent_class_data.csv\",row.names = FALSE)"
   ]
  }
 ],
 "metadata": {
  "kernelspec": {
   "display_name": "R",
   "language": "R",
   "name": "ir"
  },
  "language_info": {
   "codemirror_mode": "r",
   "file_extension": ".r",
   "mimetype": "text/x-r-source",
   "name": "R",
   "pygments_lexer": "r",
   "version": "4.2.2"
  }
 },
 "nbformat": 4,
 "nbformat_minor": 2
}
