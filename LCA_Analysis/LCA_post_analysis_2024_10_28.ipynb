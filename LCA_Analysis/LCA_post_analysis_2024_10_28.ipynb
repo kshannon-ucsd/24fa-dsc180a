{
 "cells": [
  {
   "cell_type": "code",
   "execution_count": 84,
   "metadata": {},
   "outputs": [],
   "source": [
    "import pandas as pd\n",
    "import matplotlib.pyplot as plt\n",
    "import seaborn as sns\n",
    "from scipy.stats import chi2_contingency\n",
    "from sklearn.linear_model import LogisticRegression\n",
    "from sklearn.model_selection import cross_val_score\n",
    "from sklearn.model_selection import train_test_split, cross_val_score\n",
    "from sklearn.metrics import roc_curve, auc\n"
   ]
  },
  {
   "cell_type": "code",
   "execution_count": null,
   "metadata": {},
   "outputs": [],
   "source": [
    "df = pd.read_csv('data/LCA_latent_class_data.csv').drop(columns=[\"X\"])\n",
    "df_prob = pd.read_csv('data/LCA_posterior_probabilities.csv')\n",
    "# find most popular 6 classes, however we need to minus 1 later since python starts from 0.\n",
    "# By minus 1, we can get all column index for all target classes\n",
    "keep_classes = (df[\"class_assignment\"].value_counts()/df[\"class_assignment\"].count()).index[:6]\n",
    "target_prob_class = keep_classes - 1\n",
    "# print(target_prob_class)\n",
    "# print(keep_classes)\n",
    "\n",
    "classes_mapping = {i: f\"{i[1:]}\" for i in df_prob.columns}\n",
    "df_prob = df_prob.rename(columns=classes_mapping)\n",
    "\n",
    "\n",
    "df_prob = df_prob.iloc[:,target_prob_class]\n",
    "\n",
    "# In all six popluar classes, find the most popular classes\n",
    "df_prob[\"class_assignment\"] = df_prob.idxmax(axis=1)\n",
    "\n",
    "# Drop the original class assignment, since it has more than 6 classes, and assigned the new classes we have get from prob df\n",
    "df = df.drop(columns=[\"class_assignment\"])\n",
    "df[\"class_assignment\"] = df_prob[\"class_assignment\"]\n",
    "df"
   ]
  },
  {
   "cell_type": "code",
   "execution_count": null,
   "metadata": {},
   "outputs": [],
   "source": [
    "\n",
    "# remove classes to keep only 6 classes\n",
    "# df = df[df[\"class_assignment\"].isin(keep_classes)].reset_index().drop(columns=[\"index\"])\n",
    "\n",
    "start_index = df.columns.get_loc(\"congestive_heart_failure\")\n",
    "print(f\"congestive_heart_failure's index is {start_index}\")\n",
    "# minus 1 for all Elixhauser index, since we manully add 1 for latent class analysis to avoid 0\n",
    "df.iloc[:,start_index:-1] = df.iloc[:,start_index:-1] - 1\n",
    "\n",
    "df[\"count_morbidity\"] = df.iloc[:,start_index:-1].apply(lambda row: sum(row),axis=1)\n",
    "df = df[~df[\"count_morbidity\"].isna()]\n",
    "df[\"count_morbidity\"] = df[\"count_morbidity\"].apply(lambda x: '>=8' if x >= 8 else str(x))\n",
    "df[\"age_at_admission\"] = df[\"age_at_admission\"].apply(lambda x: 85 if x >= 95 else x)\n",
    "df\n",
    "df"
   ]
  },
  {
   "cell_type": "code",
   "execution_count": null,
   "metadata": {},
   "outputs": [],
   "source": [
    "df[df[\"age_at_admission\"]>85][\"age_at_admission\"].value_counts()"
   ]
  },
  {
   "cell_type": "code",
   "execution_count": null,
   "metadata": {},
   "outputs": [],
   "source": [
    "df[\"count_morbidity\"].value_counts()"
   ]
  },
  {
   "cell_type": "code",
   "execution_count": null,
   "metadata": {},
   "outputs": [],
   "source": [
    "print(df.groupby([\"class_assignment\",\"count_morbidity\"])[\"subject_id\"].count()/df.groupby([\"class_assignment\"])[\"subject_id\"].count())\n",
    "# Calculate the percentage for each row within each group and assign it to a new column\n",
    "df['percent'] = df.groupby([\"class_assignment\", \"count_morbidity\"])[\"subject_id\"].transform('count') / \\\n",
    "                df.groupby(\"class_assignment\")[\"subject_id\"].transform('count') * 100\n",
    "df"
   ]
  },
  {
   "cell_type": "code",
   "execution_count": null,
   "metadata": {},
   "outputs": [],
   "source": [
    "# df[\"class_assignment\"] = df[\"class_assignment\"].replace(8,6)\n",
    "unique_values = sorted(df['class_assignment'].unique())\n",
    "value_map = {original_value: new_value for new_value, original_value in enumerate(unique_values, start=1)}\n",
    "df['class_assignment'] = df['class_assignment'].map(value_map)\n",
    "\n",
    "df = df.sort_values(by=\"count_morbidity\", ascending=True)\n",
    "df"
   ]
  },
  {
   "cell_type": "code",
   "execution_count": null,
   "metadata": {},
   "outputs": [],
   "source": [
    "\n",
    "# Create a bubble plot\n",
    "plt.figure(figsize=(10, 8))\n",
    "scatter = plt.scatter(\n",
    "    x=df['class_assignment'],\n",
    "    y=df['count_morbidity'],\n",
    "    s=df['percent']*10,  # Scale bubble size (adjust multiplier as needed)\n",
    "    alpha=0.6,\n",
    "    c=df['class_assignment'],  # Color by subgroup\n",
    "    cmap='Set1'  # Choose a color map\n",
    ")\n",
    "\n",
    "# Customize the plot\n",
    "plt.xlabel(\"Subgroup\")\n",
    "plt.ylabel(\"Multimorbidity count\")\n",
    "plt.title(\"Subgroup Characteristics by Multimorbidity Count and Percentage\")\n",
    "\n",
    "# Legend for bubble sizes\n",
    "for size in [10, 20, 30]:  # Adjust sizes to match your `percent` range\n",
    "    plt.scatter([], [], s=size * 10, color='gray', alpha=0.5, label=str(size) + '%')\n",
    "plt.legend(\n",
    "    title=\"Percent\", \n",
    "    loc=\"upper left\", \n",
    "    bbox_to_anchor=(1.05, 1),  \n",
    "    scatterpoints=1, \n",
    "    frameon=True,\n",
    "    labelspacing=1.2,  \n",
    "    borderpad=1.2      \n",
    ")\n",
    "\n",
    "plt.show()"
   ]
  },
  {
   "cell_type": "code",
   "execution_count": null,
   "metadata": {},
   "outputs": [],
   "source": [
    "# Sample code to create a box plot\n",
    "plt.figure(figsize=(8, 10))\n",
    "sns.boxplot(\n",
    "    data=df,\n",
    "    x=\"class_assignment\",  # X-axis representing the subgroups\n",
    "    y=\"age_at_admission\", # Y-axis representing age\n",
    "    palette=\"Set1\"         # Color palette similar to the one in the plot\n",
    ")\n",
    "\n",
    "# Customize the plot\n",
    "plt.xlabel(\"Subgroup\")\n",
    "plt.ylabel(\"Age (years)\")\n",
    "plt.title(\"Boxplot of Age Distribution in Subgroups\")\n",
    "\n",
    "plt.show()"
   ]
  },
  {
   "cell_type": "code",
   "execution_count": null,
   "metadata": {},
   "outputs": [],
   "source": [
    "df['age_bucket'].value_counts()"
   ]
  },
  {
   "cell_type": "code",
   "execution_count": null,
   "metadata": {},
   "outputs": [],
   "source": [
    "df[\"admission_type\"] = df[\"admission_type\"].map({\"Non-elective\":0,\"Elective\":1})\n",
    "df[\"gender\"] = df[\"gender\"].map({\"M\":0,\"F\":1})\n",
    "\n",
    "age_bucket_order = {'16-24': 1, \"25-44\": 2, \"45-64\": 3, \"65-84\": 4, \"85-95\": 5}\n",
    "df['age_bucket'] = df['age_bucket'].map(age_bucket_order)\n",
    "\n",
    "\n",
    "df"
   ]
  },
  {
   "cell_type": "code",
   "execution_count": null,
   "metadata": {},
   "outputs": [],
   "source": [
    "cols_used_LCA = [\"admission_type\", \"gender\", \"age_bucket\", \"congestive_heart_failure\", \"cardiac_arrhythmias\", \"valvular_disease\", \"pulmonary_circulation\", \"peripheral_vascular\", \"hypertension\", \"paralysis\", \"other_neurological\", \"chronic_pulmonary\", \"diabetes_uncomplicated\", \"diabetes_complicated\", \"hypothyroidism\", \"renal_failure\", \"liver_disease\", \"peptic_ulcer\", \"aids\", \"lymphoma\", \"metastatic_cancer\", \"solid_tumor\", \"rheumatoid_arthritis\", \"coagulopathy\", \"obesity\", \"weight_loss\", \"fluid_electrolyte\", \"blood_loss_anemia\", \"deficiency_anemias\", \"alcohol_abuse\", \"drug_abuse\", \"psychoses\", \"depression\"]\n",
    "\n",
    "for i in sorted(df[\"class_assignment\"].unique()):\n",
    "    print(f\"check class {i} with all other classes\")\n",
    "    df[\"dichotomized_class\"] = df[\"class_assignment\"].apply(lambda x: 0 if x!=i else 1)\n",
    "    # Define the features (X) and target (y)\n",
    "    X = df[cols_used_LCA]  \n",
    "    y = df['dichotomized_class']\n",
    "\n",
    "    # Initialize the logistic regression model\n",
    "    log_reg = LogisticRegression(max_iter=1000)\n",
    "\n",
    "    # Cross-validation to get AUC-ROC scores\n",
    "    auc_scores = cross_val_score(log_reg, X, y, cv=10, scoring='roc_auc')\n",
    "    print(\"Average AUC-ROC for class {i} with other classes:\", auc_scores.mean())\n",
    "df"
   ]
  },
  {
   "cell_type": "code",
   "execution_count": null,
   "metadata": {},
   "outputs": [],
   "source": [
    "\n",
    "plt.figure(figsize=(10, 8))\n",
    "\n",
    "# Define the color map for each class\n",
    "colors = ['black', 'red', 'green', 'blue', 'cyan', 'magenta']\n",
    "\n",
    "# Iterate through each unique class for the one-vs-all approach\n",
    "for i, class_label in enumerate(sorted(df[\"class_assignment\"].unique())):\n",
    "    print(f\"Check class {class_label} with all other classes\")\n",
    "\n",
    "    # Create a binary target for the class vs. all others\n",
    "    df[\"dichotomized_class\"] = df[\"class_assignment\"].apply(lambda x: 1 if x == class_label else 0)\n",
    "    \n",
    "    # Define features and target\n",
    "    X = df[cols_used_LCA]\n",
    "    y = df[\"dichotomized_class\"]\n",
    "\n",
    "    # Train logistic regression on full data for ROC curve (after cross-validation)\n",
    "    log_reg = LogisticRegression(max_iter=1000)\n",
    "    auc_scores = cross_val_score(log_reg, X, y, cv=10, scoring='roc_auc')\n",
    "    print(\"Average AUC-ROC for class {i} with other classes:\", auc_scores.mean())\n",
    "\n",
    "\n",
    "# Plot the diagonal line representing random guessing\n",
    "plt.plot([0, 1], [0, 1], color='gray', linestyle='--', lw=2)\n",
    "\n",
    "# Customize the plot\n",
    "plt.xlim([0.0, 1.0])\n",
    "plt.ylim([0.0, 1.05])\n",
    "plt.xlabel('1 - Specificity (False Positive Rate)')\n",
    "plt.ylabel('Sensitivity (True Positive Rate)')\n",
    "plt.title('ROC Curves for Each Subgroup')\n",
    "plt.legend(loc=\"lower right\")\n",
    "plt.grid()\n",
    "\n",
    "# Show the plot\n",
    "plt.show()\n",
    "\n"
   ]
  }
 ],
 "metadata": {
  "kernelspec": {
   "display_name": "base",
   "language": "python",
   "name": "python3"
  },
  "language_info": {
   "codemirror_mode": {
    "name": "ipython",
    "version": 3
   },
   "file_extension": ".py",
   "mimetype": "text/x-python",
   "name": "python",
   "nbconvert_exporter": "python",
   "pygments_lexer": "ipython3",
   "version": "3.12.4"
  }
 },
 "nbformat": 4,
 "nbformat_minor": 2
}
