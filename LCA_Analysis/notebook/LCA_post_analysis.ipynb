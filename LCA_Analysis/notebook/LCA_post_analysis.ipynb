{
 "cells": [
  {
   "cell_type": "code",
   "execution_count": null,
   "metadata": {},
   "outputs": [],
   "source": [
    "import pandas as pd\n",
    "import sys\n",
    "import os\n",
    "\n",
    "sys.path.append(os.path.abspath('/workspaces'))\n",
    "\n",
    "from LCA_Analysis.utils.data_postprocessing import *\n",
    "from LCA_Analysis.utils.visualization import *"
   ]
  },
  {
   "cell_type": "code",
   "execution_count": null,
   "metadata": {},
   "outputs": [],
   "source": [
    "# LCA_POSTERIOR_PROBABILITIES_PATH: This store the posterior probabilities for all the latent classes, so we can combine small classes to larger classes\n",
    "# LCA_LATENT_CLASS_DATA_PATH: This stores the patients that are classified to different subgroups based on LCA\n",
    "\n",
    "LCA_POSTERIOR_PROBABILITIES_PATH = \"../data/processed_data/LCA_posterior_probabilities.csv\"\n",
    "LCA_LATENT_CLASS_DATA_PATH = \"../data/processed_data/LCA_latent_class_data.csv\"\n",
    "SOFA_DATA_PATH = \"../data/raw_data/sofa.csv\"\n",
    "OASIS_DATA_PATH = \"../data/raw_data/oasis.csv\"\n",
    "ANGUS_DATA_PATH = \"../data/raw_data/angus.csv\"\n",
    "SEPSIS_DATA_PATH = \"../data/raw_data/sepsis.csv\"\n",
    "PATIENT_DATA_PATH = \"../data/raw_data/patients.csv\"\n",
    "NUM_LATENT_CLASSES = 6"
   ]
  },
  {
   "cell_type": "markdown",
   "metadata": {},
   "source": [
    "### Read CSVs and reassign the class if the number of classes are more than 6"
   ]
  },
  {
   "cell_type": "code",
   "execution_count": null,
   "metadata": {},
   "outputs": [],
   "source": [
    "df = pd.read_csv(LCA_LATENT_CLASS_DATA_PATH)\n",
    "df_prob = pd.read_csv(LCA_POSTERIOR_PROBABILITIES_PATH)\n",
    "sofa = pd.read_csv(SOFA_DATA_PATH)\n",
    "oasis = pd.read_csv(OASIS_DATA_PATH)\n",
    "angus = pd.read_csv(ANGUS_DATA_PATH)\n",
    "sepsis = pd.read_csv(SEPSIS_DATA_PATH)\n",
    "patients = pd.read_csv(PATIENT_DATA_PATH)\n",
    "\n",
    "df, classes_distribution = reassign_classes(df,df_prob,num_classes=NUM_LATENT_CLASSES)\n",
    "display(df.head(5))\n",
    "print(classes_distribution)\n",
    "classes_mapping = {6:1,2:2,5:3,4:4,3:5,1:6}\n",
    "df = process_morbidity_data(df,classes_mapping)\n",
    "\n",
    "display(df.head(5))"
   ]
  },
  {
   "cell_type": "markdown",
   "metadata": {},
   "source": [
    "### Different Plots below to prove the heterogeneity of the subgroups visually"
   ]
  },
  {
   "cell_type": "code",
   "execution_count": null,
   "metadata": {},
   "outputs": [],
   "source": [
    "plot_subgroup_characteristics(df, bubble_size_scale=10, save_plots=True)"
   ]
  },
  {
   "cell_type": "code",
   "execution_count": null,
   "metadata": {},
   "outputs": [],
   "source": [
    "cols_used_LCA = [\"admission_type\", \"gender\", \"age_at_admission\", \"congestive_heart_failure\", \"cardiac_arrhythmias\",\n",
    "                 \"valvular_disease\", \"pulmonary_circulation\", \"peripheral_vascular\", \"hypertension\", \"paralysis\",\n",
    "                 \"other_neurological\", \"chronic_pulmonary\", \"diabetes_uncomplicated\", \"diabetes_complicated\",\n",
    "                 \"hypothyroidism\", \"renal_failure\", \"liver_disease\", \"peptic_ulcer\", \"aids\", \"lymphoma\",\n",
    "                 \"metastatic_cancer\", \"solid_tumor\", \"rheumatoid_arthritis\", \"coagulopathy\", \"obesity\", \"weight_loss\",\n",
    "                 \"fluid_electrolyte\", \"blood_loss_anemia\", \"deficiency_anemias\", \"alcohol_abuse\", \"drug_abuse\",\n",
    "                 \"psychoses\", \"depression\"]\n",
    "\n",
    "colors = ['black', 'red', 'green', 'blue', 'cyan', 'magenta']\n",
    "\n",
    "plot_roc_curves(df, cols_used_LCA, colors,save_plots=True)"
   ]
  },
  {
   "cell_type": "code",
   "execution_count": null,
   "metadata": {},
   "outputs": [],
   "source": [
    "exclude_columns = ['subject_id', 'hadm_id', 'icustay_id', 'deathtime', 'gender',\n",
    "       'age_at_admission', 'admission_type', 'los_icu_days',\n",
    "       'los_hospital_days','class_assignment','count_morbidity','percent','dichotomized_class']\n",
    "target_columns = [\"class_assignment\"]+[col for col  in df.columns if col not in(exclude_columns)]\n",
    "\n",
    "mean_prevalence = df[target_columns].drop(columns=[\"class_assignment\"]).mean()\n",
    "mean_prevalence_subgroup = df[target_columns].groupby(\"class_assignment\").mean()\n",
    "# Normalize the prevalence to a maximum of 50%\n",
    "normalized_prevalence = mean_prevalence.clip(upper=0.5)\n",
    "normalized_prevalence_subgroup = mean_prevalence_subgroup.clip(upper=0.5)\n",
    "plot_polar_all(mean_prevalence,save_plots=True)\n",
    "plot_polar_subgroup(normalized_prevalence_subgroup,save_plots=True)"
   ]
  },
  {
   "cell_type": "code",
   "execution_count": null,
   "metadata": {},
   "outputs": [],
   "source": [
    "patients[\"dod_converion\"] = patients[\"dod\"].isna()\n",
    "df_plot = df.copy()\n",
    "df_plot = pd.merge(df_plot,sofa[[\"subject_id\",\"hadm_id\",\"sofa\"]])\n",
    "df_plot = pd.merge(df_plot,oasis[[\"subject_id\",\"hadm_id\",\"oasis\"]])\n",
    "df_plot = pd.merge(df_plot,angus[[\"subject_id\",\"hadm_id\",\"organ_dysfunction\",\"explicit_sepsis\"]])\n",
    "df_plot = pd.merge(df_plot,sepsis[[\"subject_id\",\"hadm_id\",\"sepsis\"]])\n",
    "df_plot = pd.merge(df_plot,patients[[\"subject_id\",\"dod_converion\"]])\n",
    "plot_boxplot_by_subgroup(df_plot,\"sofa\",save_plots=True)\n",
    "plot_boxplot_by_subgroup(df_plot,\"oasis\",save_plots=True)"
   ]
  },
  {
   "cell_type": "code",
   "execution_count": null,
   "metadata": {},
   "outputs": [],
   "source": [
    "conditions = [\"organ_dysfunction\",\"sepsis\"]\n",
    "percentages = calculate_prevalence(df_plot, conditions,\"Subgroup\")\n",
    "plot_bar(percentages, y_label=\"Percent prevalence\", colors=[\"gray\", \"red\", \"green\", \"blue\", \"cyan\", \"pink\"],save_plots=True)"
   ]
  }
 ],
 "metadata": {
  "kernelspec": {
   "display_name": "base",
   "language": "python",
   "name": "python3"
  },
  "language_info": {
   "codemirror_mode": {
    "name": "ipython",
    "version": 3
   },
   "file_extension": ".py",
   "mimetype": "text/x-python",
   "name": "python",
   "nbconvert_exporter": "python",
   "pygments_lexer": "ipython3",
   "version": "3.12.4"
  }
 },
 "nbformat": 4,
 "nbformat_minor": 2
}
