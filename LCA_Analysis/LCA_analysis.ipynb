{
 "cells": [
  {
   "cell_type": "code",
   "execution_count": null,
   "metadata": {
    "vscode": {
     "languageId": "r"
    }
   },
   "outputs": [],
   "source": [
    "library(poLCA)\n",
    "library(reticulate)\n",
    "\n",
    "source(\"utils/LCA_analysis.R\")\n",
    "source_python(\"utils/data_processing.py\")"
   ]
  },
  {
   "cell_type": "code",
   "execution_count": 2,
   "metadata": {
    "vscode": {
     "languageId": "r"
    }
   },
   "outputs": [],
   "source": [
    "\n",
    "# this raw data is the result of sql queries, including filtered patients, and their demogrpahic information and mobrdity conditions\n",
    "RAW_DATA_PATH <- \"data/raw_data/LCA_raw_data.csv\"\n",
    "# RAW_DATA_PATH <- \"data/raw_data/LCA_raw_data.csv\"\n",
    "\n",
    "# Before applying data to LCA, we need to process them to right format for poLCA to work, which would be done in utils/data_processing.py\n",
    "LCA_PREPROCESSED_DATA_PATH <- \"data/processed_data/LCA_preprocessed_data.csv\"\n",
    "\n",
    "# This store the posterior probabilities for all the latent classes, so we can combine small classes to larger classes\n",
    "LCA_POSTERIOR_PROBABILITIES_PATH <- \"data/processed_data/LCA_posterior_probabilities.csv\"\n",
    "\n",
    "# This stores the patients that are classified to different subgroups based on LCA\n",
    "\n",
    "LCA_LATENT_CLASS_DATA_PATH <- \"data/processed_data/LCA_latent_class_data.csv\"\n",
    "# Save the plots of LCA's result and different groups' age and multi-mordity count\n",
    "\n",
    "PLOT_DIR_PATH <- \"plots\""
   ]
  },
  {
   "cell_type": "code",
   "execution_count": null,
   "metadata": {
    "vscode": {
     "languageId": "r"
    }
   },
   "outputs": [],
   "source": [
    "# Run the preprocess data function and store the results in a list, including processed df and morbidity_distribution\n",
    "results <- preprocess_lca_data(RAW_DATA_PATH, LCA_PREPROCESSED_DATA_PATH)\n",
    "\n",
    "# Access each part of the result, df is the preprocessed result of df (input for LCA), \n",
    "# morbidity_distribution tells the distribution of multi-morbidity count\n",
    "df <- results$df\n",
    "morbidity_distribution <- results$morbidity_distribution\n",
    "\n",
    "# Define the columns you want to convert to factors before passing into the LCA model\n",
    "factor_columns <- c(\"admission_type\", \"gender\", \"age_bucket\")\n",
    "\n",
    "df <- convert_to_factors(df, factor_columns)\n",
    "\n",
    "print(morbidity_distribution)"
   ]
  },
  {
   "cell_type": "code",
   "execution_count": null,
   "metadata": {
    "vscode": {
     "languageId": "r"
    }
   },
   "outputs": [],
   "source": [
    "# The formula (variables used in LCA)\n",
    "formula <- as.formula(cbind(admission_type, gender, age_at_admission, congestive_heart_failure, \n",
    "                            cardiac_arrhythmias, valvular_disease, pulmonary_circulation, \n",
    "                            peripheral_vascular, hypertension, paralysis, other_neurological, \n",
    "                            chronic_pulmonary, diabetes_uncomplicated, diabetes_complicated, \n",
    "                            hypothyroidism, renal_failure, liver_disease, peptic_ulcer, aids, \n",
    "                            lymphoma, metastatic_cancer, solid_tumor, rheumatoid_arthritis, \n",
    "                            coagulopathy, obesity, weight_loss, fluid_electrolyte, blood_loss_anemia, \n",
    "                            deficiency_anemias, alcohol_abuse, drug_abuse, psychoses, \n",
    "                            depression) ~ 1)\n",
    "\n",
    "# Run the LCA\n",
    "best_models <- find_best_lca_model(df, formula, class_range = 6, plot_dir = PLOT_DIR_PATH)\n",
    "\n",
    "# Access the best models\n",
    "best_models$best_model_bic   # Best model by BIC\n",
    "best_models$best_model_aic   # Best model by AIC\n",
    "best_models$best_model_aic_bic_combined  # Best model by combined AIC+BIC\n"
   ]
  },
  {
   "cell_type": "markdown",
   "metadata": {},
   "source": [
    "# Check Patients fall into which Latent Classes"
   ]
  },
  {
   "cell_type": "code",
   "execution_count": null,
   "metadata": {
    "vscode": {
     "languageId": "r"
    }
   },
   "outputs": [],
   "source": [
    "\n",
    "# Assign the predicted class for each observation to a new column in df\n",
    "df$class_assignment <- best_models$best_model_aic_bic_combined$predclass\n",
    "\n",
    "# Use table to summarize the number of individuals in each class\n",
    "table(df$class_assignment)\n",
    "\n",
    "# Convert the posterior probabilities to a dataframe \n",
    "posterior_df <- as.data.frame(best_models$best_model_aic_bic_combined$posterior)\n",
    "\n",
    "# Save the dataframe to a CSV file, the posterior_df is usde to combine small classes to larger classes if it is necessary\n",
    "write.csv(posterior_df, LCA_POSTERIOR_PROBABILITIES_PATH, row.names = FALSE)\n",
    "\n",
    "write.csv(df, LCA_LATENT_CLASS_DATA_PATH, row.names = FALSE)\n"
   ]
  }
 ],
 "metadata": {
  "kernelspec": {
   "display_name": "R",
   "language": "R",
   "name": "ir"
  },
  "language_info": {
   "codemirror_mode": "r",
   "file_extension": ".r",
   "mimetype": "text/x-r-source",
   "name": "R",
   "pygments_lexer": "r",
   "version": "4.2.2"
  }
 },
 "nbformat": 4,
 "nbformat_minor": 2
}
